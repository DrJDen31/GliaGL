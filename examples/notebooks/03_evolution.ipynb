{
 "cells": [
  {
   "cell_type": "markdown",
   "metadata": {},
   "source": [
    "# GliaGL Evolutionary Training\n",
    "\n",
    "Use evolutionary algorithms to discover optimal network architectures and parameters.\n",
    "\n",
    "## What You'll Learn\n",
    "- Setting up evolutionary training\n",
    "- Configuring evolution parameters\n",
    "- Running evolution\n",
    "- Analyzing results\n",
    "- Comparing with gradient-based training"
   ]
  },
  {
   "cell_type": "code",
   "execution_count": null,
   "metadata": {},
   "outputs": [],
   "source": [
    "import glia\n",
    "import numpy as np\n",
    "import matplotlib.pyplot as plt\n",
    "\n",
    "print(f\"GliaGL version: {glia.__version__}\")"
   ]
  },
  {
   "cell_type": "markdown",
   "metadata": {},
   "source": [
    "## 1. Create Baseline Network and Data\n",
    "\n",
    "Start with a baseline network to evolve:"
   ]
  },
  {
   "cell_type": "code",
   "execution_count": null,
   "metadata": {},
   "outputs": [],
   "source": [
    "# Create baseline network\n",
    "net = glia.Network(num_sensory=2, num_neurons=5)\n",
    "\n",
    "# Add random connections\n",
    "np.random.seed(42)\n",
    "from_ids = ['S0', 'S0', 'S1', 'S1']\n",
    "to_ids = ['N2', 'N3', 'N3', 'N4']\n",
    "weights = np.random.randn(4)\n",
    "net.set_weights(from_ids, to_ids, weights)\n",
    "\n",
    "# Save as baseline\n",
    "net.save('evolution_baseline.net')\n",
    "print(f\"Baseline network: {net.num_neurons} neurons, {net.num_connections} connections\")"
   ]
  },
  {
   "cell_type": "code",
   "execution_count": null,
   "metadata": {},
   "outputs": [],
   "source": [
    "# Create dataset\n",
    "episodes = []\n",
    "for i in range(40):\n",
    "    ep = glia.EpisodeData()\n",
    "    seq = glia.InputSequence()\n",
    "    \n",
    "    # XOR-like problem\n",
    "    pattern = i % 4\n",
    "    if pattern == 0:\n",
    "        seq.add_timestep({'S0': 0.0, 'S1': 0.0})\n",
    "        target = 'N2'\n",
    "    elif pattern == 1:\n",
    "        seq.add_timestep({'S0': 100.0, 'S1': 0.0})\n",
    "        target = 'N3'\n",
    "    elif pattern == 2:\n",
    "        seq.add_timestep({'S0': 0.0, 'S1': 100.0})\n",
    "        target = 'N3'\n",
    "    else:\n",
    "        seq.add_timestep({'S0': 100.0, 'S1': 100.0})\n",
    "        target = 'N2'\n",
    "    \n",
    "    ep.seq = seq\n",
    "    ep.target_id = target\n",
    "    episodes.append(ep)\n",
    "\n",
    "dataset = glia.Dataset(episodes)\n",
    "train_data, val_data = dataset.split(0.8, seed=42)\n",
    "print(f\"Dataset: {len(train_data)} training, {len(val_data)} validation\")"
   ]
  },
  {
   "cell_type": "markdown",
   "metadata": {},
   "source": [
    "## 2. Configure Evolution\n",
    "\n",
    "Set evolutionary algorithm parameters:"
   ]
  },
  {
   "cell_type": "code",
   "execution_count": null,
   "metadata": {},
   "outputs": [],
   "source": [
    "# Training config for each individual\n",
    "train_cfg = glia.create_config(\n",
    "    lr=0.02,\n",
    "    batch_size=4,\n",
    "    warmup_ticks=10,\n",
    "    eval_ticks=50\n",
    ")\n",
    "\n",
    "# Evolution config\n",
    "evo_cfg = glia.create_evolution_config(\n",
    "    population=15,        # Population size\n",
    "    generations=50,       # Number of generations\n",
    "    elite=3,              # Keep top 3\n",
    "    parents_pool=6,       # 6 parents per generation\n",
    "    train_epochs=5,       # Train each for 5 epochs\n",
    "    sigma_w=0.15,         # Weight mutation strength\n",
    "    sigma_thr=3.0,        # Threshold mutation\n",
    "    sigma_leak=0.02,      # Leak mutation\n",
    "    w_acc=1.0,            # Fitness: accuracy weight\n",
    "    w_margin=0.5,         # Fitness: margin weight\n",
    "    w_sparsity=0.02,      # Fitness: sparsity penalty\n",
    "    lamarckian=True,      # Enable Lamarckian evolution\n",
    "    seed=42\n",
    ")\n",
    "\n",
    "print(f\"Evolution: {evo_cfg.population} individuals, {evo_cfg.generations} generations\")"
   ]
  },
  {
   "cell_type": "markdown",
   "metadata": {},
   "source": [
    "## 3. Run Evolution\n",
    "\n",
    "This may take a few minutes:"
   ]
  },
  {
   "cell_type": "code",
   "execution_count": null,
   "metadata": {},
   "outputs": [],
   "source": [
    "# Create evolution engine\n",
    "evo = glia.Evolution(\n",
    "    'evolution_baseline.net',\n",
    "    train_data,\n",
    "    val_data,\n",
    "    train_cfg,\n",
    "    evo_cfg\n",
    ")\n",
    "\n",
    "# Run evolution\n",
    "print(\"\\nRunning evolution...\")\n",
    "result = evo.run()\n",
    "\n",
    "print(f\"\\n✓ Evolution complete!\")\n",
    "print(f\"Best fitness: {result.best_fitness:.4f}\")\n",
    "print(f\"Best accuracy: {result.best_acc_hist[-1]:.1%}\")\n",
    "print(f\"Best margin: {result.best_margin_hist[-1]:.3f}\")"
   ]
  },
  {
   "cell_type": "markdown",
   "metadata": {},
   "source": [
    "## 4. Analyze Evolution Results\n",
    "\n",
    "Plot fitness progression over generations:"
   ]
  },
  {
   "cell_type": "code",
   "execution_count": null,
   "metadata": {},
   "outputs": [],
   "source": [
    "# Plot evolution history\n",
    "fig, axes = plt.subplots(1, 3, figsize=(15, 4))\n",
    "\n",
    "axes[0].plot(result.best_fitness_hist)\n",
    "axes[0].set_xlabel('Generation')\n",
    "axes[0].set_ylabel('Fitness')\n",
    "axes[0].set_title('Best Fitness Over Time')\n",
    "axes[0].grid(True, alpha=0.3)\n",
    "\n",
    "axes[1].plot(result.best_acc_hist)\n",
    "axes[1].set_xlabel('Generation')\n",
    "axes[1].set_ylabel('Accuracy')\n",
    "axes[1].set_title('Best Accuracy Over Time')\n",
    "axes[1].grid(True, alpha=0.3)\n",
    "\n",
    "axes[2].plot(result.best_margin_hist)\n",
    "axes[2].set_xlabel('Generation')\n",
    "axes[2].set_ylabel('Margin')\n",
    "axes[2].set_title('Best Margin Over Time')\n",
    "axes[2].grid(True, alpha=0.3)\n",
    "\n",
    "plt.tight_layout()\n",
    "plt.show()"
   ]
  },
  {
   "cell_type": "markdown",
   "metadata": {},
   "source": [
    "## 5. Load and Test Best Network\n",
    "\n",
    "Extract the best evolved network:"
   ]
  },
  {
   "cell_type": "code",
   "execution_count": null,
   "metadata": {},
   "outputs": [],
   "source": [
    "# Load best genome\n",
    "best_net = glia.Network()\n",
    "best_net.load_from_genome(result.best_genome)\n",
    "best_net.save('evolution_best.net')\n",
    "\n",
    "print(f\"Best network: {best_net.num_neurons} neurons, {best_net.num_connections} connections\")\n",
    "\n",
    "# Test on validation set\n",
    "trainer = glia.Trainer(best_net, train_cfg)\n",
    "correct = sum(1 for ep in val_data \n",
    "              if trainer.evaluate(ep.seq, train_cfg).winner_id == ep.target_id)\n",
    "print(f\"Validation accuracy: {correct/len(val_data):.1%}\")"
   ]
  },
  {
   "cell_type": "markdown",
   "metadata": {},
   "source": [
    "## 6. Compare with Gradient Training\n",
    "\n",
    "Train the baseline with gradients for comparison:"
   ]
  },
  {
   "cell_type": "code",
   "execution_count": null,
   "metadata": {},
   "outputs": [],
   "source": [
    "# Load baseline again\n",
    "gradient_net = glia.Network.from_file('evolution_baseline.net')\n",
    "gradient_trainer = glia.Trainer(gradient_net, train_cfg)\n",
    "\n",
    "# Train for same number of epochs as evolution\n",
    "total_epochs = evo_cfg.train_epochs * evo_cfg.generations\n",
    "print(f\"Training baseline with gradients for {total_epochs} epochs...\")\n",
    "gradient_trainer.train_epoch(train_data, epochs=total_epochs, config=train_cfg)\n",
    "\n",
    "# Evaluate\n",
    "correct = sum(1 for ep in val_data \n",
    "              if gradient_trainer.evaluate(ep.seq, train_cfg).winner_id == ep.target_id)\n",
    "gradient_acc = correct / len(val_data)\n",
    "\n",
    "print(f\"\\nGradient training accuracy: {gradient_acc:.1%}\")\n",
    "print(f\"Evolution accuracy: {result.best_acc_hist[-1]:.1%}\")\n",
    "print(f\"Improvement: {(result.best_acc_hist[-1] - gradient_acc)*100:.1f} percentage points\")"
   ]
  },
  {
   "cell_type": "markdown",
   "metadata": {},
   "source": [
    "## 7. Visualize Best Network\n",
    "\n",
    "See the evolved network structure:"
   ]
  },
  {
   "cell_type": "code",
   "execution_count": null,
   "metadata": {},
   "outputs": [],
   "source": [
    "try:\n",
    "    import glia.viz as viz\n",
    "    \n",
    "    fig, axes = plt.subplots(1, 2, figsize=(14, 5))\n",
    "    \n",
    "    # Baseline\n",
    "    plt.sca(axes[0])\n",
    "    viz.plot_network(glia.Network.from_file('evolution_baseline.net'), show=False)\n",
    "    axes[0].set_title('Baseline Network')\n",
    "    \n",
    "    # Evolved\n",
    "    plt.sca(axes[1])\n",
    "    viz.plot_network(best_net, show=False)\n",
    "    axes[1].set_title('Evolved Network')\n",
    "    \n",
    "    plt.tight_layout()\n",
    "    plt.show()\n",
    "except ImportError:\n",
    "    print(\"Visualization requires: pip install matplotlib networkx\")"
   ]
  },
  {
   "cell_type": "markdown",
   "metadata": {},
   "source": [
    "## Summary\n",
    "\n",
    "You've learned:\n",
    "- ✅ Setting up evolutionary training\n",
    "- ✅ Configuring evolution parameters\n",
    "- ✅ Running evolution with `Evolution.run()`\n",
    "- ✅ Analyzing fitness progression\n",
    "- ✅ Extracting best genomes\n",
    "- ✅ Comparing with gradient-based training\n",
    "- ✅ Lamarckian evolution (learned → genetic)\n",
    "\n",
    "## Key Insights\n",
    "\n",
    "- **Evolution discovers architectures** gradient descent cannot\n",
    "- **Lamarckian evolution** transfers learned weights to genome\n",
    "- **Population diversity** explores solution space\n",
    "- **Fitness function** balances accuracy, margin, and sparsity\n",
    "\n",
    "## Next Steps\n",
    "\n",
    "- **Advanced**: See `04_advanced.ipynb` for custom fitness functions\n",
    "- **API Reference**: See `docs/user-guide/ADVANCED_USAGE.md`"
   ]
  }
 ],
 "metadata": {
  "kernelspec": {
   "display_name": "Python 3",
   "language": "python",
   "name": "python3"
  },
  "language_info": {
   "codemirror_mode": {
    "name": "ipython",
    "version": 3
   },
   "file_extension": ".py",
   "mimetype": "text/x-python",
   "name": "python",
   "nbconvert_exporter": "python",
   "pygments_lexer": "ipython3",
   "version": "3.8.0"
  }
 },
 "nbformat": 4,
 "nbformat_minor": 4
}

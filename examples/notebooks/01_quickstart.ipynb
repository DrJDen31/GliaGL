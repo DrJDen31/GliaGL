{
 "cells": [
  {
   "cell_type": "markdown",
   "metadata": {},
   "source": [
    "# GliaGL Quickstart\n",
    "\n",
    "This notebook provides a quick introduction to GliaGL's Python API.\n",
    "\n",
    "## What You'll Learn\n",
    "- Creating networks\n",
    "- Running simulations\n",
    "- Adding connections\n",
    "- Basic visualization\n",
    "- Saving/loading networks"
   ]
  },
  {
   "cell_type": "markdown",
   "metadata": {},
   "source": [
    "## Setup\n",
    "\n",
    "First, import GliaGL and other needed libraries:"
   ]
  },
  {
   "cell_type": "code",
   "execution_count": null,
   "metadata": {},
   "outputs": [],
   "source": [
    "import glia\n",
    "import numpy as np\n",
    "import matplotlib.pyplot as plt\n",
    "\n",
    "print(f\"GliaGL version: {glia.__version__}\")"
   ]
  },
  {
   "cell_type": "markdown",
   "metadata": {},
   "source": [
    "## 1. Create Your First Network\n",
    "\n",
    "Let's create a simple network with 2 sensory neurons and 3 internal neurons:"
   ]
  },
  {
   "cell_type": "code",
   "execution_count": null,
   "metadata": {},
   "outputs": [],
   "source": [
    "# Create network\n",
    "net = glia.Network(num_sensory=2, num_neurons=3)\n",
    "\n",
    "print(f\"Created network: {net}\")\n",
    "print(f\"Neurons: {net.neuron_ids}\")\n",
    "print(f\"Sensory neurons: {net.sensory_ids}\")"
   ]
  },
  {
   "cell_type": "markdown",
   "metadata": {},
   "source": [
    "## 2. Run a Simulation\n",
    "\n",
    "Inject some input and run the simulation:"
   ]
  },
  {
   "cell_type": "code",
   "execution_count": null,
   "metadata": {},
   "outputs": [],
   "source": [
    "# Inject input into sensory neurons\n",
    "net.inject_dict({\n",
    "    'S0': 100.0,  # Strong input\n",
    "    'S1': 50.0    # Weak input\n",
    "})\n",
    "\n",
    "# Run simulation for 10 steps\n",
    "net.step(n_steps=10)\n",
    "\n",
    "# Check which neurons fired\n",
    "fired = net.get_firing_neurons()\n",
    "print(f\"Firing neurons: {fired}\")"
   ]
  },
  {
   "cell_type": "markdown",
   "metadata": {},
   "source": [
    "## 3. Add Connections\n",
    "\n",
    "Connect sensory neurons to internal neurons:"
   ]
  },
  {
   "cell_type": "code",
   "execution_count": null,
   "metadata": {},
   "outputs": [],
   "source": [
    "# Create connections: S0 → N0, S0 → N1, S1 → N1, S1 → N2\n",
    "from_ids = ['S0', 'S0', 'S1', 'S1']\n",
    "to_ids = ['N0', 'N1', 'N1', 'N2']\n",
    "weights = np.array([2.0, 1.5, 1.5, 2.0])\n",
    "\n",
    "net.set_weights(from_ids, to_ids, weights)\n",
    "\n",
    "print(f\"Network now has {net.num_connections} connections\")"
   ]
  },
  {
   "cell_type": "markdown",
   "metadata": {},
   "source": [
    "## 4. Inspect Network State\n",
    "\n",
    "Access neuron state as NumPy arrays:"
   ]
  },
  {
   "cell_type": "code",
   "execution_count": null,
   "metadata": {},
   "outputs": [],
   "source": [
    "# Get state\n",
    "ids, values, thresholds, leaks = net.get_state()\n",
    "\n",
    "print(f\"Neuron IDs: {ids}\")\n",
    "print(f\"Membrane values: {values}\")\n",
    "print(f\"Thresholds: {thresholds}\")\n",
    "print(f\"Leak rates: {leaks}\")"
   ]
  },
  {
   "cell_type": "markdown",
   "metadata": {},
   "source": [
    "## 5. Visualize the Network\n",
    "\n",
    "Plot the network structure:"
   ]
  },
  {
   "cell_type": "code",
   "execution_count": null,
   "metadata": {},
   "outputs": [],
   "source": [
    "try:\n",
    "    import glia.viz as viz\n",
    "    import networkx as nx\n",
    "    \n",
    "    # Plot network graph\n",
    "    viz.plot_network(net, show=True)\n",
    "    plt.title(\"Network Structure\")\n",
    "    plt.show()\n",
    "except ImportError:\n",
    "    print(\"Visualization requires: pip install matplotlib networkx\")"
   ]
  },
  {
   "cell_type": "markdown",
   "metadata": {},
   "source": [
    "## 6. Monitor Activity Over Time\n",
    "\n",
    "Run a longer simulation and track neuron activity:"
   ]
  },
  {
   "cell_type": "code",
   "execution_count": null,
   "metadata": {},
   "outputs": [],
   "source": [
    "# Reset network\n",
    "net.reset()\n",
    "\n",
    "# Track activity\n",
    "activity_log = []\n",
    "\n",
    "for t in range(100):\n",
    "    # Inject periodic input\n",
    "    if t % 20 == 0:\n",
    "        net.inject_dict({'S0': 100.0, 'S1': 50.0})\n",
    "    \n",
    "    # Step simulation\n",
    "    net.step()\n",
    "    \n",
    "    # Log firing\n",
    "    fired = net.get_firing_neurons()\n",
    "    activity_log.append((t, fired))\n",
    "\n",
    "# Show firing events\n",
    "print(f\"Total firing events: {sum(1 for t, fired in activity_log if fired)}\")\n",
    "print(f\"\\nFirst 10 events:\")\n",
    "for t, fired in activity_log[:10]:\n",
    "    if fired:\n",
    "        print(f\"  t={t}: {fired}\")"
   ]
  },
  {
   "cell_type": "markdown",
   "metadata": {},
   "source": [
    "## 7. Save and Load\n",
    "\n",
    "Save your network for later use:"
   ]
  },
  {
   "cell_type": "code",
   "execution_count": null,
   "metadata": {},
   "outputs": [],
   "source": [
    "# Save network\n",
    "net.save('quickstart_network.net')\n",
    "print(\"Network saved!\")\n",
    "\n",
    "# Load it back\n",
    "loaded_net = glia.Network.from_file('quickstart_network.net')\n",
    "print(f\"Loaded network: {loaded_net}\")\n",
    "print(f\"Connections preserved: {loaded_net.num_connections}\")"
   ]
  },
  {
   "cell_type": "markdown",
   "metadata": {},
   "source": [
    "## 8. NumPy Integration\n",
    "\n",
    "Use NumPy operations on network state:"
   ]
  },
  {
   "cell_type": "code",
   "execution_count": null,
   "metadata": {},
   "outputs": [],
   "source": [
    "# Get state as NumPy arrays\n",
    "ids, values, thresholds, leaks = net.get_state()\n",
    "\n",
    "# Compute statistics\n",
    "print(f\"Mean membrane value: {values.mean():.2f}\")\n",
    "print(f\"Std membrane value: {values.std():.2f}\")\n",
    "print(f\"Threshold range: [{thresholds.min():.0f}, {thresholds.max():.0f}]\")\n",
    "\n",
    "# Modify thresholds (increase by 10%)\n",
    "new_thresholds = thresholds * 1.1\n",
    "net.set_state(ids, new_thresholds, leaks)\n",
    "\n",
    "print(f\"\\nThresholds increased by 10%\")"
   ]
  },
  {
   "cell_type": "markdown",
   "metadata": {},
   "source": [
    "## Summary\n",
    "\n",
    "You've learned:\n",
    "- ✅ Creating networks with `glia.Network()`\n",
    "- ✅ Injecting inputs with `inject_dict()`\n",
    "- ✅ Running simulations with `step()`\n",
    "- ✅ Adding connections with `set_weights()`\n",
    "- ✅ Accessing state with NumPy arrays\n",
    "- ✅ Visualizing networks\n",
    "- ✅ Saving/loading with `.save()` and `.from_file()`\n",
    "\n",
    "## Next Steps\n",
    "\n",
    "- **Training**: See `02_training.ipynb`\n",
    "- **Evolution**: See `03_evolution.ipynb`\n",
    "- **Advanced**: See `04_advanced.ipynb`\n",
    "- **API Reference**: See `docs/user-guide/API_REFERENCE.md`"
   ]
  }
 ],
 "metadata": {
  "kernelspec": {
   "display_name": "Python 3",
   "language": "python",
   "name": "python3"
  },
  "language_info": {
   "codemirror_mode": {
    "name": "ipython",
    "version": 3
   },
   "file_extension": ".py",
   "mimetype": "text/x-python",
   "name": "python",
   "nbconvert_exporter": "python",
   "pygments_lexer": "ipython3",
   "version": "3.8.0"
  }
 },
 "nbformat": 4,
 "nbformat_minor": 4
}

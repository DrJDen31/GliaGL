{
 "cells": [
  {
   "cell_type": "markdown",
   "metadata": {},
   "source": [
    "# GliaGL Training Tutorial\n",
    "\n",
    "Learn how to train spiking neural networks with GliaGL.\n",
    "\n",
    "## What You'll Learn\n",
    "- Creating datasets\n",
    "- Training configuration\n",
    "- Running training loops\n",
    "- Evaluating performance\n",
    "- Monitoring progress"
   ]
  },
  {
   "cell_type": "code",
   "execution_count": null,
   "metadata": {},
   "outputs": [],
   "source": [
    "import glia\n",
    "import numpy as np\n",
    "import matplotlib.pyplot as plt\n",
    "\n",
    "print(f\"GliaGL version: {glia.__version__}\")"
   ]
  },
  {
   "cell_type": "markdown",
   "metadata": {},
   "source": [
    "## 1. Create a Network\n",
    "\n",
    "Start with a simple network to train:"
   ]
  },
  {
   "cell_type": "code",
   "execution_count": null,
   "metadata": {},
   "outputs": [],
   "source": [
    "# Create network: 3 inputs, 5 hidden, 3 outputs\n",
    "net = glia.Network(num_sensory=3, num_neurons=8)\n",
    "\n",
    "# Add random connections\n",
    "np.random.seed(42)\n",
    "n_connections = 12\n",
    "\n",
    "from_ids = np.random.choice(net.sensory_ids, n_connections).tolist()\n",
    "to_ids = np.random.choice([n for n in net.neuron_ids if n not in net.sensory_ids], n_connections).tolist()\n",
    "weights = np.random.randn(n_connections)\n",
    "\n",
    "net.set_weights(from_ids, to_ids, weights)\n",
    "\n",
    "print(f\"Created network with {net.num_connections} connections\")"
   ]
  },
  {
   "cell_type": "markdown",
   "metadata": {},
   "source": [
    "## 2. Create Training Data\n",
    "\n",
    "Build a dataset with input sequences and target outputs:"
   ]
  },
  {
   "cell_type": "code",
   "execution_count": null,
   "metadata": {},
   "outputs": [],
   "source": [
    "# Create episodes\n",
    "episodes = []\n",
    "\n",
    "for i in range(30):\n",
    "    # Create episode\n",
    "    ep = glia.EpisodeData()\n",
    "    \n",
    "    # Create input sequence\n",
    "    seq = glia.InputSequence()\n",
    "    \n",
    "    # Add timesteps with different patterns\n",
    "    pattern = i % 3\n",
    "    if pattern == 0:\n",
    "        seq.add_timestep({'S0': 100.0, 'S1': 0.0, 'S2': 0.0})\n",
    "        target = 'N5'  # First output\n",
    "    elif pattern == 1:\n",
    "        seq.add_timestep({'S0': 0.0, 'S1': 100.0, 'S2': 0.0})\n",
    "        target = 'N6'  # Second output\n",
    "    else:\n",
    "        seq.add_timestep({'S0': 0.0, 'S1': 0.0, 'S2': 100.0})\n",
    "        target = 'N7'  # Third output\n",
    "    \n",
    "    ep.seq = seq\n",
    "    ep.target_id = target\n",
    "    episodes.append(ep)\n",
    "\n",
    "# Create dataset\n",
    "dataset = glia.Dataset(episodes)\n",
    "print(f\"Created dataset with {len(dataset)} episodes\")\n",
    "\n",
    "# Split into train/val\n",
    "train_data, val_data = dataset.split(train_frac=0.8, seed=42)\n",
    "print(f\"Training: {len(train_data)} episodes\")\n",
    "print(f\"Validation: {len(val_data)} episodes\")"
   ]
  },
  {
   "cell_type": "markdown",
   "metadata": {},
   "source": [
    "## 3. Configure Training\n",
    "\n",
    "Set up training hyperparameters:"
   ]
  },
  {
   "cell_type": "code",
   "execution_count": null,
   "metadata": {},
   "outputs": [],
   "source": [
    "# Create training configuration\n",
    "config = glia.create_config(\n",
    "    lr=0.01,           # Learning rate\n",
    "    batch_size=4,      # Batch size\n",
    "    warmup_ticks=10,   # Warmup period\n",
    "    eval_ticks=50,     # Evaluation period\n",
    "    reward_pos=1.0,    # Reward for correct\n",
    "    reward_neg=-0.5,   # Penalty for incorrect\n",
    "    verbose=True       # Print progress\n",
    ")\n",
    "\n",
    "print(f\"Training config: {config}\")"
   ]
  },
  {
   "cell_type": "markdown",
   "metadata": {},
   "source": [
    "## 4. Train the Network\n",
    "\n",
    "Run the training loop:"
   ]
  },
  {
   "cell_type": "code",
   "execution_count": null,
   "metadata": {},
   "outputs": [],
   "source": [
    "# Create trainer\n",
    "trainer = glia.Trainer(net, config)\n",
    "\n",
    "# Train for 30 epochs\n",
    "print(\"\\nTraining...\")\n",
    "trainer.train_epoch(train_data, epochs=30, config=config)\n",
    "\n",
    "print(f\"\\nFinal training accuracy: {trainer.epoch_accuracy[-1]:.1%}\")"
   ]
  },
  {
   "cell_type": "markdown",
   "metadata": {},
   "source": [
    "## 5. Evaluate on Validation Set\n",
    "\n",
    "Test the trained network:"
   ]
  },
  {
   "cell_type": "code",
   "execution_count": null,
   "metadata": {},
   "outputs": [],
   "source": [
    "# Evaluate each validation episode\n",
    "correct = 0\n",
    "results = []\n",
    "\n",
    "for ep in val_data:\n",
    "    metrics = trainer.evaluate(ep.seq, config)\n",
    "    is_correct = (metrics.winner_id == ep.target_id)\n",
    "    correct += int(is_correct)\n",
    "    results.append({\n",
    "        'target': ep.target_id,\n",
    "        'predicted': metrics.winner_id,\n",
    "        'correct': is_correct,\n",
    "        'margin': metrics.margin\n",
    "    })\n",
    "\n",
    "val_accuracy = correct / len(val_data)\n",
    "print(f\"\\nValidation accuracy: {val_accuracy:.1%}\")\n",
    "print(f\"Correct: {correct}/{len(val_data)}\")\n",
    "\n",
    "# Show some results\n",
    "print(\"\\nSample predictions:\")\n",
    "for r in results[:5]:\n",
    "    status = \"✓\" if r['correct'] else \"✗\"\n",
    "    print(f\"  {status} Target: {r['target']}, Predicted: {r['predicted']}, Margin: {r['margin']:.3f}\")"
   ]
  },
  {
   "cell_type": "markdown",
   "metadata": {},
   "source": [
    "## 6. Visualize Training Progress\n",
    "\n",
    "Plot training history:"
   ]
  },
  {
   "cell_type": "code",
   "execution_count": null,
   "metadata": {},
   "outputs": [],
   "source": [
    "try:\n",
    "    import glia.viz as viz\n",
    "    \n",
    "    # Plot training history\n",
    "    viz.plot_training_history(trainer, show=True)\n",
    "    plt.show()\n",
    "except ImportError:\n",
    "    # Manual plotting\n",
    "    plt.figure(figsize=(10, 4))\n",
    "    \n",
    "    plt.subplot(1, 2, 1)\n",
    "    plt.plot(trainer.epoch_accuracy)\n",
    "    plt.xlabel('Epoch')\n",
    "    plt.ylabel('Accuracy')\n",
    "    plt.title('Training Accuracy')\n",
    "    plt.grid(True, alpha=0.3)\n",
    "    \n",
    "    plt.subplot(1, 2, 2)\n",
    "    plt.plot(trainer.epoch_loss)\n",
    "    plt.xlabel('Epoch')\n",
    "    plt.ylabel('Loss')\n",
    "    plt.title('Training Loss')\n",
    "    plt.grid(True, alpha=0.3)\n",
    "    \n",
    "    plt.tight_layout()\n",
    "    plt.show()"
   ]
  },
  {
   "cell_type": "markdown",
   "metadata": {},
   "source": [
    "## 7. Analyze Weight Changes\n",
    "\n",
    "See how training affected the weights:"
   ]
  },
  {
   "cell_type": "code",
   "execution_count": null,
   "metadata": {},
   "outputs": [],
   "source": [
    "# Get current weights\n",
    "from_ids, to_ids, weights = net.get_weights()\n",
    "\n",
    "print(f\"\\nWeight statistics after training:\")\n",
    "print(f\"  Mean: {weights.mean():.3f}\")\n",
    "print(f\"  Std: {weights.std():.3f}\")\n",
    "print(f\"  Min: {weights.min():.3f}\")\n",
    "print(f\"  Max: {weights.max():.3f}\")\n",
    "\n",
    "# Plot weight distribution\n",
    "plt.figure(figsize=(8, 4))\n",
    "plt.hist(weights, bins=20, edgecolor='black', alpha=0.7)\n",
    "plt.xlabel('Weight Value')\n",
    "plt.ylabel('Count')\n",
    "plt.title('Weight Distribution After Training')\n",
    "plt.grid(True, alpha=0.3)\n",
    "plt.show()"
   ]
  },
  {
   "cell_type": "markdown",
   "metadata": {},
   "source": [
    "## 8. Save Trained Network\n",
    "\n",
    "Save your trained model for later use:"
   ]
  },
  {
   "cell_type": "code",
   "execution_count": null,
   "metadata": {},
   "outputs": [],
   "source": [
    "# Save network\n",
    "net.save('trained_network.net')\n",
    "print(\"✓ Trained network saved!\")\n",
    "\n",
    "# Verify by loading\n",
    "loaded_net = glia.Network.from_file('trained_network.net')\n",
    "print(f\"✓ Loaded network: {loaded_net.num_neurons} neurons, {loaded_net.num_connections} connections\")"
   ]
  },
  {
   "cell_type": "markdown",
   "metadata": {},
   "source": [
    "## Summary\n",
    "\n",
    "You've learned:\n",
    "- ✅ Creating datasets with `glia.Dataset`\n",
    "- ✅ Configuring training with `create_config()`\n",
    "- ✅ Training with `trainer.train_epoch()`\n",
    "- ✅ Evaluating with `trainer.evaluate()`\n",
    "- ✅ Monitoring progress with accuracy/loss\n",
    "- ✅ Visualizing training history\n",
    "- ✅ Analyzing weight changes\n",
    "- ✅ Saving trained models\n",
    "\n",
    "## Next Steps\n",
    "\n",
    "- **Evolution**: See `03_evolution.ipynb` for evolutionary training\n",
    "- **Advanced**: See `04_advanced.ipynb` for custom training loops\n",
    "- **API Reference**: See `docs/user-guide/API_REFERENCE.md`"
   ]
  }
 ],
 "metadata": {
  "kernelspec": {
   "display_name": "Python 3",
   "language": "python",
   "name": "python3"
  },
  "language_info": {
   "codemirror_mode": {
    "name": "ipython",
    "version": 3
   },
   "file_extension": ".py",
   "mimetype": "text/x-python",
   "name": "python",
   "nbconvert_exporter": "python",
   "pygments_lexer": "ipython3",
   "version": "3.8.0"
  }
 },
 "nbformat": 4,
 "nbformat_minor": 4
}
